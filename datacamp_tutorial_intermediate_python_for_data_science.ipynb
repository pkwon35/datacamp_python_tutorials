{
 "cells": [
  {
   "cell_type": "markdown",
   "metadata": {},
   "source": [
    "# DataCamp Tutorial: Intermediate Python for Data Science"
   ]
  },
  {
   "cell_type": "markdown",
   "metadata": {},
   "source": [
    "## A. Build a histogram (1)"
   ]
  },
  {
   "cell_type": "markdown",
   "metadata": {},
   "source": [
    "### **Creating a histogram**\n"
   ]
  },
  {
   "cell_type": "markdown",
   "metadata": {},
   "source": [
    "Create  the list containing data on the life expectancy for different countries in 2007"
   ]
  },
  {
   "cell_type": "code",
   "execution_count": 24,
   "metadata": {
    "collapsed": false
   },
   "outputs": [
    {
     "data": {
      "text/plain": [
       "[43.828,\n",
       " 76.423,\n",
       " 72.301,\n",
       " 42.731,\n",
       " 75.32,\n",
       " 81.235,\n",
       " 79.829,\n",
       " 75.635,\n",
       " 64.062,\n",
       " 79.441,\n",
       " 56.728,\n",
       " 65.554,\n",
       " 74.852,\n",
       " 50.728,\n",
       " 72.39,\n",
       " 73.005,\n",
       " 52.295,\n",
       " 49.58,\n",
       " 59.723,\n",
       " 50.43,\n",
       " 80.653,\n",
       " 44.74100000000001,\n",
       " 50.651,\n",
       " 78.553,\n",
       " 72.961,\n",
       " 72.889,\n",
       " 65.152,\n",
       " 46.462,\n",
       " 55.322,\n",
       " 78.782,\n",
       " 48.328,\n",
       " 75.748,\n",
       " 78.273,\n",
       " 76.486,\n",
       " 78.332,\n",
       " 54.791,\n",
       " 72.235,\n",
       " 74.994,\n",
       " 71.33800000000002,\n",
       " 71.878,\n",
       " 51.57899999999999,\n",
       " 58.04,\n",
       " 52.947,\n",
       " 79.313,\n",
       " 80.657,\n",
       " 56.735,\n",
       " 59.448,\n",
       " 79.406,\n",
       " 60.022,\n",
       " 79.483,\n",
       " 70.259,\n",
       " 56.007,\n",
       " 46.38800000000001,\n",
       " 60.916,\n",
       " 70.19800000000001,\n",
       " 82.208,\n",
       " 73.33800000000002,\n",
       " 81.757,\n",
       " 64.69800000000001,\n",
       " 70.65,\n",
       " 70.964,\n",
       " 59.545,\n",
       " 78.885,\n",
       " 80.745,\n",
       " 80.546,\n",
       " 72.567,\n",
       " 82.603,\n",
       " 72.535,\n",
       " 54.11,\n",
       " 67.297,\n",
       " 78.623,\n",
       " 77.58800000000002,\n",
       " 71.993,\n",
       " 42.592,\n",
       " 45.678,\n",
       " 73.952,\n",
       " 59.44300000000001,\n",
       " 48.303,\n",
       " 74.241,\n",
       " 54.467,\n",
       " 64.164,\n",
       " 72.801,\n",
       " 76.195,\n",
       " 66.803,\n",
       " 74.543,\n",
       " 71.164,\n",
       " 42.082,\n",
       " 62.069,\n",
       " 52.90600000000001,\n",
       " 63.785,\n",
       " 79.762,\n",
       " 80.204,\n",
       " 72.899,\n",
       " 56.867,\n",
       " 46.859,\n",
       " 80.196,\n",
       " 75.64,\n",
       " 65.483,\n",
       " 75.53699999999998,\n",
       " 71.752,\n",
       " 71.421,\n",
       " 71.688,\n",
       " 75.563,\n",
       " 78.098,\n",
       " 78.74600000000002,\n",
       " 76.442,\n",
       " 72.476,\n",
       " 46.242,\n",
       " 65.528,\n",
       " 72.777,\n",
       " 63.062,\n",
       " 74.002,\n",
       " 42.56800000000001,\n",
       " 79.972,\n",
       " 74.663,\n",
       " 77.926,\n",
       " 48.159,\n",
       " 49.339,\n",
       " 80.941,\n",
       " 72.396,\n",
       " 58.556,\n",
       " 39.613,\n",
       " 80.884,\n",
       " 81.70100000000002,\n",
       " 74.143,\n",
       " 78.4,\n",
       " 52.517,\n",
       " 70.616,\n",
       " 58.42,\n",
       " 69.819,\n",
       " 73.923,\n",
       " 71.777,\n",
       " 51.542,\n",
       " 79.425,\n",
       " 78.242,\n",
       " 76.384,\n",
       " 73.747,\n",
       " 74.249,\n",
       " 73.422,\n",
       " 62.698,\n",
       " 42.38399999999999,\n",
       " 43.487]"
      ]
     },
     "execution_count": 24,
     "metadata": {},
     "output_type": "execute_result"
    }
   ],
   "source": [
    "life_exp = [43.828000000000003, 76.423000000000002, 72.301000000000002, 42.731000000000002, 75.319999999999993, 81.234999999999999,79.828999999999994,75.635000000000005,64.061999999999998, 79.441000000000003, 56.728000000000002, 65.554000000000002,74.852000000000004, 50.728000000000002, 72.390000000000001, 73.004999999999995, 52.295000000000002, 49.579999999999998, 59.722999999999999, 50.43, 80.653000000000006, 44.741000000000007, 50.651000000000003, 78.552999999999997, 72.960999999999999, 72.888999999999996, 65.152000000000001, 46.462000000000003, 55.322000000000003, 78.781999999999996, 48.328000000000003, 75.748000000000005, 78.272999999999996, 76.486000000000004, 78.331999999999994, 54.790999999999997, 72.234999999999999, 74.994, 71.338000000000022, 71.878, 51.578999999999994, 58.039999999999999, 52.947000000000003, 79.313000000000002, 80.656999999999996, 56.734999999999999, 59.448, 79.406000000000006, 60.021999999999998, 79.483000000000004, 70.259, 56.006999999999998, 46.388000000000012, 60.915999999999997, 70.198000000000008, 82.207999999999998, 73.338000000000022, 81.757000000000005, 64.698000000000008, 70.650000000000006, 70.963999999999999, 59.545000000000002, 78.885000000000005, 80.745000000000005, 80.546000000000006, 72.566999999999993, 82.602999999999994, 72.534999999999997, 54.109999999999999, 67.296999999999997, 78.623000000000005, 77.588000000000022, 71.992999999999995, 42.591999999999999, 45.677999999999997, 73.951999999999998, 59.443000000000012, 48.302999999999997, 74.241, 54.466999999999999, 64.164000000000001, 72.801000000000002, 76.194999999999993, 66.802999999999997, 74.543000000000006, 71.164000000000001, 42.082000000000001, 62.069000000000003, 52.906000000000013, 63.784999999999997, 79.762, 80.203999999999994, 72.899000000000001, 56.866999999999997, 46.859000000000002, 80.195999999999998, 75.640000000000001, 65.483000000000004, 75.536999999999978, 71.751999999999995, 71.421000000000006, 71.688000000000002, 75.563000000000002, 78.097999999999999, 78.746000000000024, 76.441999999999993, 72.475999999999999, 46.241999999999997, 65.528000000000006, 72.777000000000001, 63.061999999999998, 74.001999999999995, 42.568000000000012, 79.971999999999994, 74.662999999999997, 77.926000000000002, 48.158999999999999, 49.338999999999999, 80.941000000000003, 72.396000000000001, 58.555999999999997, 39.613, 80.884, 81.701000000000022, 74.143000000000001, 78.400000000000006, 52.517000000000003, 70.616, 58.420000000000002, 69.819000000000003, 73.923000000000002, 71.777000000000001, 51.542000000000002, 79.424999999999997, 78.242000000000004, 76.384, 73.747, 74.248999999999995, 73.421999999999997, 62.698, 42.383999999999993,43.487000000000002]\n",
    "life_exp"
   ]
  },
  {
   "cell_type": "code",
   "execution_count": 29,
   "metadata": {
    "collapsed": false
   },
   "outputs": [],
   "source": [
    "# import matplotlib.pyplot\n",
    "import matplotlib.pyplot as plt"
   ]
  },
  {
   "cell_type": "code",
   "execution_count": 30,
   "metadata": {
    "collapsed": false,
    "scrolled": false
   },
   "outputs": [
    {
     "data": {
      "image/png": "[encoded data removed]",
      "text/plain": [
       "<matplotlib.figure.Figure at 0x4b77ad7e48>"
      ]
     },
     "metadata": {},
     "output_type": "display_data"
    }
   ],
   "source": [
    "# Create histogram of life_exp data\n",
    "plt.hist(life_exp)\n",
    "\n",
    "# Display histogram\n",
    "plt.show()\n",
    "\n",
    "# use clf to clear the previous graph\n",
    "plt.clf()\n"
   ]
  },
  {
   "cell_type": "markdown",
   "metadata": {},
   "source": [
    "By default, Python sets the number of bins to 10 in that case. The number of bins is pretty important. Too few bins will oversimplify reality and won't show you the details. Too many bins will overcomplicate reality and won't show the bigger picture.\n",
    "\n",
    "Bin specify # of bars"
   ]
  },
  {
   "cell_type": "code",
   "execution_count": 33,
   "metadata": {
    "collapsed": false
   },
   "outputs": [
    {
     "data": {
      "image/png": "[encoded data removed]",
      "text/plain": [
       "<matplotlib.figure.Figure at 0x4b7bf42898>"
      ]
     },
     "metadata": {},
     "output_type": "display_data"
    }
   ],
   "source": [
    "# Build histogram with 5 bins\n",
    "plt.hist(life_exp,bins=5)\n",
    "\n",
    "# Show and clean up plot\n",
    "plt.show()\n",
    "plt.clf()"
   ]
  },
  {
   "cell_type": "code",
   "execution_count": 32,
   "metadata": {
    "collapsed": false
   },
   "outputs": [
    {
     "data": {
      "image/png": "[encoded data removed]",
      "text/plain": [
       "<matplotlib.figure.Figure at 0x4b7be0b828>"
      ]
     },
     "metadata": {},
     "output_type": "display_data"
    }
   ],
   "source": [
    "# Build histogram with 20 bins\n",
    "plt.hist(life_exp,bins=20)\n",
    "\n",
    "# Show and clean up again\n",
    "plt.show()\n",
    "plt.clf()"
   ]
  },
  {
   "cell_type": "code",
   "execution_count": 34,
   "metadata": {
    "collapsed": true
   },
   "outputs": [],
   "source": [
    "# create life_exp1950\n",
    "life_exp1950=[28.8, 55.23, 43.08, 30.02, 62.48, 69.12, 66.8, 50.94, 37.48, 68.0, 38.22, 40.41, 53.82, 47.62, 50.92, 59.6, 31.98, 39.03, 39.42, 38.52, 68.75, 35.46, 38.09, 54.74, 44.0, 50.64, 40.72, 39.14, 42.11, 57.21, 40.48, 61.21, 59.42, 66.87, 70.78, 34.81, 45.93, 48.36, 41.89, 45.26, 34.48, 35.93, 34.08, 66.55, 67.41, 37.0, 30.0, 67.5, 43.15, 65.86, 42.02, 33.61, 32.5, 37.58, 41.91, 60.96, 64.03, 72.49, 37.37, 37.47, 44.87, 45.32, 66.91, 65.39, 65.94, 58.53, 63.03, 43.16, 42.27, 50.06, 47.45, 55.56, 55.93, 42.14, 38.48, 42.72, 36.68, 36.26, 48.46, 33.68, 40.54, 50.99, 50.79, 42.24, 59.16, 42.87, 31.29, 36.32, 41.72, 36.16, 72.13, 69.39, 42.31, 37.44, 36.32, 72.67, 37.58, 43.44, 55.19, 62.65, 43.9, 47.75, 61.31, 59.82, 64.28, 52.72, 61.05, 40.0, 46.47, 39.88, 37.28, 58.0, 30.33, 60.4, 64.36, 65.57, 32.98, 45.01, 64.94, 57.59, 38.64, 41.41, 71.86, 69.62, 45.88, 58.5, 41.22, 50.85, 38.6, 59.1, 44.6, 43.58, 39.98, 69.18, 68.44, 66.07, 55.09, 40.41, 43.16, 32.55, 42.04, 48.45]\n"
   ]
  },
  {
   "cell_type": "code",
   "execution_count": 35,
   "metadata": {
    "collapsed": false
   },
   "outputs": [
    {
     "data": {
      "image/png": "[encoded data removed]",
      "text/plain": [
       "<matplotlib.figure.Figure at 0x4b79e065f8>"
      ]
     },
     "metadata": {},
     "output_type": "display_data"
    }
   ],
   "source": [
    "# Histogram of life_exp, 15 bins\n",
    "plt.hist(life_exp,bins=15)\n",
    "\n",
    "# Show and clear plot\n",
    "plt.show()\n",
    "plt.clf()\n",
    "\n"
   ]
  },
  {
   "cell_type": "code",
   "execution_count": 37,
   "metadata": {
    "collapsed": false,
    "scrolled": true
   },
   "outputs": [
    {
     "data": {
      "image/png": "[encoded data removed]",
      "text/plain": [
       "<matplotlib.figure.Figure at 0x4b7681cba8>"
      ]
     },
     "metadata": {},
     "output_type": "display_data"
    }
   ],
   "source": [
    "# Histogram of life_exp1950, 15 bins\n",
    "\n",
    "life_exp1950\n",
    "\n",
    "plt.hist(life_exp1950,bins=15)\n",
    "\n",
    "# Show and clear plot again\n",
    "plt.show()\n",
    "plt.clf()"
   ]
  },
  {
   "cell_type": "markdown",
   "metadata": {},
   "source": [
    "Labels"
   ]
  },
  {
   "cell_type": "code",
   "execution_count": null,
   "metadata": {
    "collapsed": true
   },
   "outputs": [],
   "source": []
  },
  {
   "cell_type": "code",
   "execution_count": null,
   "metadata": {
    "collapsed": true
   },
   "outputs": [],
   "source": []
  },
  {
   "cell_type": "code",
   "execution_count": null,
   "metadata": {
    "collapsed": true
   },
   "outputs": [],
   "source": []
  },
  {
   "cell_type": "code",
   "execution_count": null,
   "metadata": {
    "collapsed": true
   },
   "outputs": [],
   "source": []
  },
  {
   "cell_type": "code",
   "execution_count": null,
   "metadata": {
    "collapsed": true
   },
   "outputs": [],
   "source": []
  }
 ],
 "metadata": {
  "kernelspec": {
   "display_name": "Python 3",
   "language": "python",
   "name": "python3"
  },
  "language_info": {
   "codemirror_mode": {
    "name": "ipython",
    "version": 3
   },
   "file_extension": ".py",
   "mimetype": "text/x-python",
   "name": "python",
   "nbconvert_exporter": "python",
   "pygments_lexer": "ipython3",
   "version": "3.6.0"
  }
 },
 "nbformat": 4,
 "nbformat_minor": 2
}
